{
 "cells": [
  {
   "cell_type": "code",
   "execution_count": 1,
   "metadata": {},
   "outputs": [
    {
     "name": "stdout",
     "output_type": "stream",
     "text": [
      "Hello world\n"
     ]
    }
   ],
   "source": [
    "print('Hello world')"
   ]
  },
  {
   "cell_type": "code",
   "execution_count": 2,
   "metadata": {},
   "outputs": [
    {
     "name": "stdout",
     "output_type": "stream",
     "text": [
      "Hello world\n"
     ]
    }
   ],
   "source": [
    "print(\"Hello world\")"
   ]
  },
  {
   "cell_type": "code",
   "execution_count": 2,
   "metadata": {},
   "outputs": [
    {
     "name": "stdout",
     "output_type": "stream",
     "text": [
      "\n"
     ]
    }
   ],
   "source": [
    "print()"
   ]
  },
  {
   "cell_type": "code",
   "execution_count": 3,
   "metadata": {},
   "outputs": [
    {
     "name": "stdout",
     "output_type": "stream",
     "text": [
      "Hello world\n",
      "H\n",
      "e\n",
      "l\n",
      "l\n",
      "o\n",
      " \n",
      "l\n",
      "l\n"
     ]
    }
   ],
   "source": [
    "s = 'Hello world'\n",
    "print(s)\n",
    "print(s[0])\n",
    "print(s[1])\n",
    "print(s[2])\n",
    "print(s[3])\n",
    "print(s[4])\n",
    "print(s[5])\n",
    "print(s[2])\n",
    "print(s[9])"
   ]
  },
  {
   "cell_type": "code",
   "execution_count": 4,
   "metadata": {},
   "outputs": [
    {
     "name": "stdout",
     "output_type": "stream",
     "text": [
      "ello world\n",
      "Hello wo\n",
      "lo\n",
      "world\n",
      "True\n"
     ]
    }
   ],
   "source": [
    "print(s[1:])\n",
    "print(s[:8])\n",
    "print(s[3:5])\n",
    "print(s[-5:])\n",
    "\n",
    "print('world' in s)"
   ]
  },
  {
   "cell_type": "code",
   "execution_count": 5,
   "metadata": {},
   "outputs": [
    {
     "name": "stdout",
     "output_type": "stream",
     "text": [
      "Hello world\n",
      "Hello_Hello_Hello_Hello_Hello_\n",
      "******\n",
      "datadatadatadatadatadatadatadatadatadatadatadatadatadatadata\n"
     ]
    }
   ],
   "source": [
    "s1 = 'Hello'\n",
    "s2 = 'world'\n",
    "print(s1 + ' ' +s2)\n",
    "print('Hello_' *5)\n",
    "print('*'*6)\n",
    "print('data' * 15)"
   ]
  },
  {
   "cell_type": "code",
   "execution_count": 6,
   "metadata": {},
   "outputs": [
    {
     "name": "stdout",
     "output_type": "stream",
     "text": [
      "world\n",
      "ste\n"
     ]
    }
   ],
   "source": [
    "sn = 'Namaste world'\n",
    "\n",
    "print(sn[-5:])\n",
    "print(sn[4:7])"
   ]
  },
  {
   "cell_type": "code",
   "execution_count": 7,
   "metadata": {},
   "outputs": [
    {
     "name": "stdout",
     "output_type": "stream",
     "text": [
      "HELLO WORLD\n",
      "hello world\n",
      "<class 'str'>\n"
     ]
    }
   ],
   "source": [
    "print(s.upper())\n",
    "print(s.lower())\n",
    "print(type(s))"
   ]
  },
  {
   "cell_type": "code",
   "execution_count": 13,
   "metadata": {},
   "outputs": [
    {
     "name": "stdout",
     "output_type": "stream",
     "text": [
      "Name: Naveena Age: 29 Single: True\n",
      "Name: Naveena Age: 29 Single: True\n",
      "Name: Naveena Age: 29 Single: True\n"
     ]
    }
   ],
   "source": [
    "name = 'Naveena'\n",
    "age = 29\n",
    "single = True\n",
    "\n",
    "print('Name: %s Age: %s Single: %s' %(name, age, single))\n",
    "print('Name: {} Age: {} Single: {}'.format(name, age, single))\n",
    "print(f'Name: {name} Age: {age} Single: {single}')"
   ]
  },
  {
   "cell_type": "code",
   "execution_count": 15,
   "metadata": {},
   "outputs": [
    {
     "name": "stdout",
     "output_type": "stream",
     "text": [
      "hello Naveena\n"
     ]
    }
   ],
   "source": [
    "my_string = 'hello'\n",
    "print(my_string + ' Naveena')"
   ]
  },
  {
   "cell_type": "code",
   "execution_count": 16,
   "metadata": {},
   "outputs": [
    {
     "name": "stdout",
     "output_type": "stream",
     "text": [
      "4\n",
      "0\n",
      "4\n",
      "1.0\n"
     ]
    }
   ],
   "source": [
    "print(2+2)\n",
    "print(2-2)\n",
    "print(2*2)\n",
    "print(2/2)"
   ]
  },
  {
   "cell_type": "code",
   "execution_count": 24,
   "metadata": {},
   "outputs": [
    {
     "name": "stdout",
     "output_type": "stream",
     "text": [
      "16\n",
      "205\n",
      "276\n"
     ]
    }
   ],
   "source": [
    "print(2**4)\n",
    "print(2+10*20+3)\n",
    "print((2+10) * (20+3))"
   ]
  },
  {
   "cell_type": "code",
   "execution_count": 25,
   "metadata": {},
   "outputs": [
    {
     "data": {
      "text/plain": [
       "40"
      ]
     },
     "execution_count": 25,
     "metadata": {},
     "output_type": "execute_result"
    }
   ],
   "source": [
    "15 * 2 + 10"
   ]
  },
  {
   "cell_type": "code",
   "execution_count": 29,
   "metadata": {},
   "outputs": [
    {
     "data": {
      "text/plain": [
       "2.5"
      ]
     },
     "execution_count": 29,
     "metadata": {},
     "output_type": "execute_result"
    }
   ],
   "source": [
    "a = 2\n",
    "b = 3\n",
    "(a+b)/2"
   ]
  },
  {
   "cell_type": "code",
   "execution_count": 30,
   "metadata": {},
   "outputs": [
    {
     "data": {
      "text/plain": [
       "2.5"
      ]
     },
     "execution_count": 30,
     "metadata": {},
     "output_type": "execute_result"
    }
   ],
   "source": [
    "mean = 2.5\n",
    "mean"
   ]
  },
  {
   "cell_type": "code",
   "execution_count": 1,
   "metadata": {},
   "outputs": [],
   "source": [
    "c = 4\n",
    "my_list = [ 1, 2.0, 'hi', c]"
   ]
  },
  {
   "cell_type": "code",
   "execution_count": 2,
   "metadata": {},
   "outputs": [
    {
     "data": {
      "text/plain": [
       "[1, 2.0, 'hi', 4]"
      ]
     },
     "execution_count": 2,
     "metadata": {},
     "output_type": "execute_result"
    }
   ],
   "source": [
    "my_list"
   ]
  },
  {
   "cell_type": "code",
   "execution_count": 3,
   "metadata": {},
   "outputs": [
    {
     "data": {
      "text/plain": [
       "2.0"
      ]
     },
     "execution_count": 3,
     "metadata": {},
     "output_type": "execute_result"
    }
   ],
   "source": [
    "my_list[1]"
   ]
  },
  {
   "cell_type": "code",
   "execution_count": 10,
   "metadata": {},
   "outputs": [
    {
     "data": {
      "text/plain": [
       "4"
      ]
     },
     "execution_count": 10,
     "metadata": {},
     "output_type": "execute_result"
    }
   ],
   "source": [
    "my_list[-1]"
   ]
  },
  {
   "cell_type": "code",
   "execution_count": 2,
   "metadata": {},
   "outputs": [
    {
     "data": {
      "text/plain": [
       "[1, 2.0, 'hi', 4, 6]"
      ]
     },
     "execution_count": 2,
     "metadata": {},
     "output_type": "execute_result"
    }
   ],
   "source": [
    "my_list.append(6)\n",
    "my_list"
   ]
  },
  {
   "cell_type": "code",
   "execution_count": 3,
   "metadata": {},
   "outputs": [
    {
     "data": {
      "text/plain": [
       "[1, 2.0, 'hi', 4, 6, [7, 8, 9]]"
      ]
     },
     "execution_count": 3,
     "metadata": {},
     "output_type": "execute_result"
    }
   ],
   "source": [
    "my_list.append([7,8,9])\n",
    "my_list"
   ]
  },
  {
   "cell_type": "code",
   "execution_count": 4,
   "metadata": {},
   "outputs": [
    {
     "data": {
      "text/plain": [
       "[1, 2.0, 'hi', 4, 6, [7, 8, 9], 10, 11, 12]"
      ]
     },
     "execution_count": 4,
     "metadata": {},
     "output_type": "execute_result"
    }
   ],
   "source": [
    "my_list.extend([10,11,12])\n",
    "my_list"
   ]
  },
  {
   "cell_type": "code",
   "execution_count": 5,
   "metadata": {},
   "outputs": [
    {
     "data": {
      "text/plain": [
       "[1, 1.5, 2.0, 'hi', 4, 6, [7, 8, 9], 10, 11, 12]"
      ]
     },
     "execution_count": 5,
     "metadata": {},
     "output_type": "execute_result"
    }
   ],
   "source": [
    "my_list.insert(1,1.5)\n",
    "my_list"
   ]
  },
  {
   "cell_type": "code",
   "execution_count": 4,
   "metadata": {},
   "outputs": [
    {
     "name": "stdout",
     "output_type": "stream",
     "text": [
      "[0, 1, 2, 3, 4, 5, 6, 7, 8]\n",
      "[0, 1, 2, 3, 4, 5, 6, 7, 8, 9]\n",
      "[0, 2, 4, 6, 8]\n"
     ]
    }
   ],
   "source": [
    "l1 = list(range(0,9))\n",
    "l2 = list(range(10))\n",
    "l3 = list(range(0,9,2))\n",
    "print(l1)\n",
    "print(l2)\n",
    "print(l3)"
   ]
  },
  {
   "cell_type": "code",
   "execution_count": 5,
   "metadata": {},
   "outputs": [
    {
     "name": "stdout",
     "output_type": "stream",
     "text": [
      "1\n",
      "[2, 3, 4, 5, 6, 7, 8]\n",
      "[2, 4, 6, 8]\n",
      "[0, 3, 6]\n"
     ]
    }
   ],
   "source": [
    "print(l1[1])\n",
    "print(l1[2:9])\n",
    "print(l1[2:9:2])\n",
    "print(l1[0::3])"
   ]
  },
  {
   "cell_type": "code",
   "execution_count": 9,
   "metadata": {},
   "outputs": [
    {
     "name": "stdout",
     "output_type": "stream",
     "text": [
      "10\n",
      "9\n"
     ]
    }
   ],
   "source": [
    "print(len(l2))\n",
    "print(l2[9])"
   ]
  },
  {
   "cell_type": "code",
   "execution_count": 2,
   "metadata": {},
   "outputs": [
    {
     "name": "stdout",
     "output_type": "stream",
     "text": [
      "[1, 1, 1, 1, 2, 2, 2, 3, 3, 4]\n",
      "{1, 2, 3, 4}\n"
     ]
    }
   ],
   "source": [
    "l = [1,1,1,1,2,2,2,3,3,4]\n",
    "ls = set(l)\n",
    "print(l)\n",
    "print(ls)"
   ]
  },
  {
   "cell_type": "code",
   "execution_count": 5,
   "metadata": {},
   "outputs": [
    {
     "name": "stdout",
     "output_type": "stream",
     "text": [
      "set()\n",
      "{1}\n",
      "{1}\n",
      "{1, 2}\n"
     ]
    }
   ],
   "source": [
    "s1 = set()\n",
    "print(s1)\n",
    "s1.add(1)\n",
    "print(s1)\n",
    "s1.add(1)\n",
    "print(s1)\n",
    "s1.add(2)\n",
    "print(s1)"
   ]
  },
  {
   "cell_type": "code",
   "execution_count": 6,
   "metadata": {},
   "outputs": [
    {
     "data": {
      "text/plain": [
       "[0, 1, 2, 3, 4, 5, 6, 7, 8, 9]"
      ]
     },
     "execution_count": 6,
     "metadata": {},
     "output_type": "execute_result"
    }
   ],
   "source": [
    "users = list(range(10))\n",
    "users"
   ]
  },
  {
   "cell_type": "code",
   "execution_count": 9,
   "metadata": {},
   "outputs": [
    {
     "name": "stdout",
     "output_type": "stream",
     "text": [
      "The value is 0\n",
      "The value is 1\n",
      "The value is 2\n",
      "The value is 3\n",
      "The value is 4\n",
      "The value is 5\n",
      "The value is 6\n",
      "The value is 7\n",
      "The value is 8\n",
      "The value is 9\n"
     ]
    }
   ],
   "source": [
    "for i in users:\n",
    "    print('The value is ' + str(users[i]))"
   ]
  },
  {
   "cell_type": "code",
   "execution_count": 17,
   "metadata": {},
   "outputs": [
    {
     "name": "stdout",
     "output_type": "stream",
     "text": [
      "0 Even\n",
      "2 Even\n",
      "4 Even\n",
      "6 Even\n",
      "8 Even\n",
      "9 Odd\n"
     ]
    }
   ],
   "source": [
    "for i in users:\n",
    "    if i % 2 == 0: print(str(i) + ' Even')\n",
    "else: print(str(i) + ' Odd')"
   ]
  },
  {
   "cell_type": "code",
   "execution_count": 25,
   "metadata": {},
   "outputs": [
    {
     "name": "stdout",
     "output_type": "stream",
     "text": [
      "[0, 2, 4, 6, 8]\n",
      "[1, 3, 5, 7, 9]\n"
     ]
    }
   ],
   "source": [
    "numbers = list(range(10))\n",
    "enums = [i for i in numbers if i%2 == 0]\n",
    "print(enums)\n",
    "onums = [j for j in numbers if j%2 == 1]\n",
    "print(onums)"
   ]
  },
  {
   "cell_type": "code",
   "execution_count": 18,
   "metadata": {},
   "outputs": [
    {
     "name": "stdout",
     "output_type": "stream",
     "text": [
      "x is still >10\n",
      "10\n"
     ]
    }
   ],
   "source": [
    "x = 11\n",
    "\n",
    "while x > 10:\n",
    "    print('x is still >10')\n",
    "    x = x-1\n",
    "    print(x)\n"
   ]
  },
  {
   "cell_type": "code",
   "execution_count": 19,
   "metadata": {},
   "outputs": [
    {
     "data": {
      "text/plain": [
       "8"
      ]
     },
     "execution_count": 19,
     "metadata": {},
     "output_type": "execute_result"
    }
   ],
   "source": [
    "n = 2**3\n",
    "n"
   ]
  },
  {
   "cell_type": "code",
   "execution_count": 21,
   "metadata": {},
   "outputs": [
    {
     "data": {
      "text/plain": [
       "9.0"
      ]
     },
     "execution_count": 21,
     "metadata": {},
     "output_type": "execute_result"
    }
   ],
   "source": [
    "import math\n",
    "m = math.pow(3,2)\n",
    "m"
   ]
  },
  {
   "cell_type": "code",
   "execution_count": 28,
   "metadata": {},
   "outputs": [
    {
     "name": "stdout",
     "output_type": "stream",
     "text": [
      "Divide by 0\n",
      "bye\n",
      "2.0\n",
      "bye\n"
     ]
    }
   ],
   "source": [
    "try:\n",
    "    4/0\n",
    "except:\n",
    "    print('Divide by 0')\n",
    "\n",
    "print('bye')    \n",
    "\n",
    "try:\n",
    "    4/2\n",
    "    print(4/2)\n",
    "except:\n",
    "    print('Divide by 0')\n",
    "\n",
    "print('bye')    "
   ]
  },
  {
   "cell_type": "code",
   "execution_count": 31,
   "metadata": {},
   "outputs": [],
   "source": [
    "with open('/workspaces/codespaces-jupyter/notebooks/my_file.txt', 'w') as f:\n",
    "    f.write('Test line 1')\n",
    "    f.write('Test line 2')\n",
    "    f.write('\\n Test line 3\\n \\t New line and tab')"
   ]
  },
  {
   "cell_type": "code",
   "execution_count": 32,
   "metadata": {},
   "outputs": [
    {
     "name": "stdout",
     "output_type": "stream",
     "text": [
      "Test line 1Test line 2\n",
      "\n",
      " Test line 3\n",
      "\n",
      " \t New line and tab\n"
     ]
    }
   ],
   "source": [
    "with open('/workspaces/codespaces-jupyter/notebooks/my_file.txt', 'r') as f:\n",
    "    for line in f:\n",
    "        print(line)"
   ]
  },
  {
   "cell_type": "code",
   "execution_count": 1,
   "metadata": {},
   "outputs": [],
   "source": [
    "def fun1(name):\n",
    "    print('Hello ' + name)"
   ]
  },
  {
   "cell_type": "code",
   "execution_count": 2,
   "metadata": {},
   "outputs": [
    {
     "name": "stdout",
     "output_type": "stream",
     "text": [
      "Hello Naveena\n"
     ]
    }
   ],
   "source": [
    "fun1('Naveena')"
   ]
  },
  {
   "cell_type": "code",
   "execution_count": 7,
   "metadata": {},
   "outputs": [],
   "source": [
    "def fun2(num=3):\n",
    "    print('Double the number is '+ str(num*2))"
   ]
  },
  {
   "cell_type": "code",
   "execution_count": 8,
   "metadata": {},
   "outputs": [
    {
     "name": "stdout",
     "output_type": "stream",
     "text": [
      "Double the number is 6\n"
     ]
    }
   ],
   "source": [
    "fun2()"
   ]
  },
  {
   "cell_type": "code",
   "execution_count": 10,
   "metadata": {},
   "outputs": [],
   "source": [
    "def col_names(*cols):\n",
    "    for i in cols:\n",
    "        print(i)"
   ]
  },
  {
   "cell_type": "code",
   "execution_count": 11,
   "metadata": {},
   "outputs": [
    {
     "name": "stdout",
     "output_type": "stream",
     "text": [
      "col1\n",
      "col2\n",
      "col3\n"
     ]
    }
   ],
   "source": [
    "col_names('col1','col2','col3')"
   ]
  },
  {
   "cell_type": "code",
   "execution_count": 16,
   "metadata": {},
   "outputs": [],
   "source": [
    "def col_items(**colitems):\n",
    "    for i in colitems.items():\n",
    "        print(i)"
   ]
  },
  {
   "cell_type": "code",
   "execution_count": 17,
   "metadata": {},
   "outputs": [
    {
     "name": "stdout",
     "output_type": "stream",
     "text": [
      "('name', 'Naveena')\n",
      "('age', 29)\n"
     ]
    }
   ],
   "source": [
    "col_items(name='Naveena', age=29)"
   ]
  },
  {
   "cell_type": "code",
   "execution_count": 21,
   "metadata": {},
   "outputs": [
    {
     "name": "stdout",
     "output_type": "stream",
     "text": [
      "25\n"
     ]
    },
    {
     "data": {
      "text/plain": [
       "100"
      ]
     },
     "execution_count": 21,
     "metadata": {},
     "output_type": "execute_result"
    }
   ],
   "source": [
    "square = lambda n: n**2\n",
    "n = square(5)\n",
    "print(n)\n",
    "\n",
    "sum = lambda a,b: a+b\n",
    "sum(58,42)"
   ]
  },
  {
   "cell_type": "code",
   "execution_count": 22,
   "metadata": {},
   "outputs": [],
   "source": [
    "class Circle(object):\n",
    "    pi = 3.14\n",
    "\n",
    "    def __init__(self, radius=1):\n",
    "        self.radius = radius\n",
    "\n",
    "    def area(self):\n",
    "        return   self.radius**2 * Circle.pi"
   ]
  },
  {
   "cell_type": "code",
   "execution_count": 24,
   "metadata": {},
   "outputs": [
    {
     "data": {
      "text/plain": [
       "78.5"
      ]
     },
     "execution_count": 24,
     "metadata": {},
     "output_type": "execute_result"
    }
   ],
   "source": [
    "c = Circle(5)\n",
    "\n",
    "c.area()"
   ]
  }
 ],
 "metadata": {
  "kernelspec": {
   "display_name": "Python 3",
   "language": "python",
   "name": "python3"
  },
  "language_info": {
   "codemirror_mode": {
    "name": "ipython",
    "version": 3
   },
   "file_extension": ".py",
   "mimetype": "text/x-python",
   "name": "python",
   "nbconvert_exporter": "python",
   "pygments_lexer": "ipython3",
   "version": "3.10.13"
  }
 },
 "nbformat": 4,
 "nbformat_minor": 2
}
